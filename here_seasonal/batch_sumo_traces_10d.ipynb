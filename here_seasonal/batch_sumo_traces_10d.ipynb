{
 "cells": [
  {
   "cell_type": "code",
   "execution_count": 5,
   "id": "f256d3b6",
   "metadata": {},
   "outputs": [],
   "source": [
    "def initialize():\n",
    "    os.system(\"netconvert --node-files here.nod.xml --edge-files here.edg.xml -o here.net.xml\")\n",
    "\n",
    "def single(day, mode):\n",
    "    os.system(\"activitygen --net-file here.net.xml --stat-file here.stat\"+str(mode)+\".xml --output-file here.trips.rou.xml --random\")\n",
    "    os.system(\"duarouter --net-file here.net.xml --route-files here.trips.rou.xml --output-file here.rou.xml --ignore-errors\")\n",
    "    tree = ET.parse(\"here.sumocfg\")\n",
    "    root = tree.getroot()\n",
    "    for child in root:\n",
    "        if (child.tag == 'output'):\n",
    "            for child2 in child:\n",
    "                child2.attrib['value'] = 'here.output'+str(day)+'.xml'\n",
    "    with open('here.sumocfg', 'wb') as f:\n",
    "        tree.write(f)\n",
    "    os.system(\"sumo -c here.sumocfg --device.fcd.period 300 --xml-validation never\") "
   ]
  },
  {
   "cell_type": "code",
   "execution_count": 6,
   "id": "e6cdfb76",
   "metadata": {},
   "outputs": [],
   "source": [
    "import os\n",
    "import numpy as np\n",
    "import analysis\n",
    "from matplotlib import pyplot as plt\n",
    "\n",
    "import xml.etree.ElementTree as ET\n",
    "# initialize()\n",
    "for i in range(0,10):\n",
    "    if 0<=i<3:\n",
    "        mode = 1\n",
    "    elif 3<=i<6:\n",
    "        mode = 2\n",
    "    elif 6<=i<10:\n",
    "        mode = 3\n",
    "    single(i, mode)"
   ]
  },
  {
   "cell_type": "code",
   "execution_count": null,
   "id": "266be759",
   "metadata": {},
   "outputs": [],
   "source": []
  }
 ],
 "metadata": {
  "kernelspec": {
   "display_name": "Python 3 (ipykernel)",
   "language": "python",
   "name": "python3"
  },
  "language_info": {
   "codemirror_mode": {
    "name": "ipython",
    "version": 3
   },
   "file_extension": ".py",
   "mimetype": "text/x-python",
   "name": "python",
   "nbconvert_exporter": "python",
   "pygments_lexer": "ipython3",
   "version": "3.7.12"
  }
 },
 "nbformat": 4,
 "nbformat_minor": 5
}
