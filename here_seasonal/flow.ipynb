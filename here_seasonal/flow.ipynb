{
 "cells": [
  {
   "cell_type": "code",
   "execution_count": 1,
   "id": "34888a1c",
   "metadata": {},
   "outputs": [],
   "source": [
    "import json\n",
    "import math\n",
    "import glob\n",
    "import pickle\n",
    "import random\n",
    "import datetime\n",
    "import itertools\n",
    "from mip import *\n",
    "import numpy as np\n",
    "import pandas as pd\n",
    "import numpy.random as rnd\n",
    "import matplotlib.pyplot as plt\n",
    "import xml.etree.ElementTree as et \n",
    "from collections import defaultdict\n",
    "# Import libraries\n",
    "import warnings\n",
    "import itertools\n",
    "import pandas as pd\n",
    "import numpy as np\n",
    "import matplotlib.pyplot as plt\n",
    "import statsmodels.api as sm"
   ]
  },
  {
   "cell_type": "code",
   "execution_count": 2,
   "id": "5fa91b13",
   "metadata": {},
   "outputs": [],
   "source": [
    "def iter_docs(author):\n",
    "    author_attr = author.attrib\n",
    "    for doc in author.iter('vehicle'):\n",
    "        doc_dict = author_attr.copy()\n",
    "        doc_dict.update(doc.attrib)\n",
    "        #doc_dict['data'] = doc.text\n",
    "        yield doc_dict"
   ]
  },
  {
   "cell_type": "code",
   "execution_count": 3,
   "id": "81acf0ea",
   "metadata": {},
   "outputs": [],
   "source": [
    "def iter_author(etree):\n",
    "    for author in etree.iter('timestep'):\n",
    "        for row in iter_docs(author):\n",
    "            yield row"
   ]
  },
  {
   "cell_type": "code",
   "execution_count": 4,
   "id": "cc789dd2",
   "metadata": {},
   "outputs": [
    {
     "data": {
      "text/plain": [
       "['here.output0.xml',\n",
       " 'here.output1.xml',\n",
       " 'here.output2.xml',\n",
       " 'here.output3.xml',\n",
       " 'here.output4.xml',\n",
       " 'here.output5.xml',\n",
       " 'here.output6.xml',\n",
       " 'here.output7.xml',\n",
       " 'here.output8.xml',\n",
       " 'here.output9.xml']"
      ]
     },
     "execution_count": 4,
     "metadata": {},
     "output_type": "execute_result"
    }
   ],
   "source": [
    "input_files = glob.glob(\"*.xml\")[3:13]\n",
    "input_files"
   ]
  },
  {
   "cell_type": "code",
   "execution_count": 5,
   "id": "06a9040f",
   "metadata": {},
   "outputs": [
    {
     "data": {
      "text/plain": [
       "DatetimeIndex(['2022-02-28', '2022-03-01', '2022-03-02', '2022-03-03',\n",
       "               '2022-03-04', '2022-03-05', '2022-03-06', '2022-03-07',\n",
       "               '2022-03-08', '2022-03-09'],\n",
       "              dtype='datetime64[ns]', freq='D')"
      ]
     },
     "execution_count": 5,
     "metadata": {},
     "output_type": "execute_result"
    }
   ],
   "source": [
    "dates = pd.date_range(start=\"2022-02-28\",end=\"2022-03-09\")\n",
    "dates"
   ]
  },
  {
   "cell_type": "code",
   "execution_count": 6,
   "id": "d8bfa7e8",
   "metadata": {},
   "outputs": [
    {
     "data": {
      "text/html": [
       "<div>\n",
       "<style scoped>\n",
       "    .dataframe tbody tr th:only-of-type {\n",
       "        vertical-align: middle;\n",
       "    }\n",
       "\n",
       "    .dataframe tbody tr th {\n",
       "        vertical-align: top;\n",
       "    }\n",
       "\n",
       "    .dataframe thead th {\n",
       "        text-align: right;\n",
       "    }\n",
       "</style>\n",
       "<table border=\"1\" class=\"dataframe\">\n",
       "  <thead>\n",
       "    <tr style=\"text-align: right;\">\n",
       "      <th></th>\n",
       "      <th>time</th>\n",
       "    </tr>\n",
       "  </thead>\n",
       "  <tbody>\n",
       "    <tr>\n",
       "      <th>2022-02-28 00:00:00</th>\n",
       "      <td>1</td>\n",
       "    </tr>\n",
       "    <tr>\n",
       "      <th>2022-02-28 00:05:00</th>\n",
       "      <td>3</td>\n",
       "    </tr>\n",
       "    <tr>\n",
       "      <th>2022-02-28 00:10:00</th>\n",
       "      <td>7</td>\n",
       "    </tr>\n",
       "    <tr>\n",
       "      <th>2022-02-28 00:15:00</th>\n",
       "      <td>5</td>\n",
       "    </tr>\n",
       "    <tr>\n",
       "      <th>2022-02-28 00:20:00</th>\n",
       "      <td>2</td>\n",
       "    </tr>\n",
       "    <tr>\n",
       "      <th>...</th>\n",
       "      <td>...</td>\n",
       "    </tr>\n",
       "    <tr>\n",
       "      <th>2022-03-09 23:35:00</th>\n",
       "      <td>20</td>\n",
       "    </tr>\n",
       "    <tr>\n",
       "      <th>2022-03-09 23:40:00</th>\n",
       "      <td>18</td>\n",
       "    </tr>\n",
       "    <tr>\n",
       "      <th>2022-03-09 23:45:00</th>\n",
       "      <td>17</td>\n",
       "    </tr>\n",
       "    <tr>\n",
       "      <th>2022-03-09 23:50:00</th>\n",
       "      <td>22</td>\n",
       "    </tr>\n",
       "    <tr>\n",
       "      <th>2022-03-09 23:55:00</th>\n",
       "      <td>15</td>\n",
       "    </tr>\n",
       "  </tbody>\n",
       "</table>\n",
       "<p>2870 rows × 1 columns</p>\n",
       "</div>"
      ],
      "text/plain": [
       "                     time\n",
       "2022-02-28 00:00:00     1\n",
       "2022-02-28 00:05:00     3\n",
       "2022-02-28 00:10:00     7\n",
       "2022-02-28 00:15:00     5\n",
       "2022-02-28 00:20:00     2\n",
       "...                   ...\n",
       "2022-03-09 23:35:00    20\n",
       "2022-03-09 23:40:00    18\n",
       "2022-03-09 23:45:00    17\n",
       "2022-03-09 23:50:00    22\n",
       "2022-03-09 23:55:00    15\n",
       "\n",
       "[2870 rows x 1 columns]"
      ]
     },
     "execution_count": 6,
     "metadata": {},
     "output_type": "execute_result"
    }
   ],
   "source": [
    "df = pd.DataFrame()\n",
    "for i in range(10):\n",
    "    data = et.parse(input_files[i])\n",
    "    df1 = pd.DataFrame(list(iter_author(data)))\n",
    "    df1['time'] = df1['time'].astype('float')\n",
    "    df1['time'] = df1['time']\n",
    "    df1['time'] = df1['time'].astype('int')\n",
    "    df2 = pd.DataFrame(df1['time'].value_counts())\n",
    "    df2 = df2.sort_index(ascending=True)\n",
    "    df2.index = [str(dates[i])+\" \"+str(datetime.timedelta(seconds = index)) for index in df2.index]\n",
    "    df2.index = pd.to_datetime(df2.index)\n",
    "    if i== 0:\n",
    "        df = df2\n",
    "    else:\n",
    "        df = pd.concat([df, df2])\n",
    "df"
   ]
  },
  {
   "cell_type": "code",
   "execution_count": 7,
   "id": "213f83df",
   "metadata": {},
   "outputs": [
    {
     "data": {
      "text/html": [
       "<div>\n",
       "<style scoped>\n",
       "    .dataframe tbody tr th:only-of-type {\n",
       "        vertical-align: middle;\n",
       "    }\n",
       "\n",
       "    .dataframe tbody tr th {\n",
       "        vertical-align: top;\n",
       "    }\n",
       "\n",
       "    .dataframe thead th {\n",
       "        text-align: right;\n",
       "    }\n",
       "</style>\n",
       "<table border=\"1\" class=\"dataframe\">\n",
       "  <thead>\n",
       "    <tr style=\"text-align: right;\">\n",
       "      <th></th>\n",
       "      <th>time</th>\n",
       "    </tr>\n",
       "  </thead>\n",
       "  <tbody>\n",
       "    <tr>\n",
       "      <th>2022-02-28 00:00:00</th>\n",
       "      <td>4.833333</td>\n",
       "    </tr>\n",
       "    <tr>\n",
       "      <th>2022-02-28 01:00:00</th>\n",
       "      <td>4.083333</td>\n",
       "    </tr>\n",
       "    <tr>\n",
       "      <th>2022-02-28 02:00:00</th>\n",
       "      <td>4.916667</td>\n",
       "    </tr>\n",
       "    <tr>\n",
       "      <th>2022-02-28 03:00:00</th>\n",
       "      <td>6.000000</td>\n",
       "    </tr>\n",
       "    <tr>\n",
       "      <th>2022-02-28 04:00:00</th>\n",
       "      <td>6.250000</td>\n",
       "    </tr>\n",
       "    <tr>\n",
       "      <th>...</th>\n",
       "      <td>...</td>\n",
       "    </tr>\n",
       "    <tr>\n",
       "      <th>2022-03-09 19:00:00</th>\n",
       "      <td>6.666667</td>\n",
       "    </tr>\n",
       "    <tr>\n",
       "      <th>2022-03-09 20:00:00</th>\n",
       "      <td>10.000000</td>\n",
       "    </tr>\n",
       "    <tr>\n",
       "      <th>2022-03-09 21:00:00</th>\n",
       "      <td>9.750000</td>\n",
       "    </tr>\n",
       "    <tr>\n",
       "      <th>2022-03-09 22:00:00</th>\n",
       "      <td>11.416667</td>\n",
       "    </tr>\n",
       "    <tr>\n",
       "      <th>2022-03-09 23:00:00</th>\n",
       "      <td>16.583333</td>\n",
       "    </tr>\n",
       "  </tbody>\n",
       "</table>\n",
       "<p>240 rows × 1 columns</p>\n",
       "</div>"
      ],
      "text/plain": [
       "                          time\n",
       "2022-02-28 00:00:00   4.833333\n",
       "2022-02-28 01:00:00   4.083333\n",
       "2022-02-28 02:00:00   4.916667\n",
       "2022-02-28 03:00:00   6.000000\n",
       "2022-02-28 04:00:00   6.250000\n",
       "...                        ...\n",
       "2022-03-09 19:00:00   6.666667\n",
       "2022-03-09 20:00:00  10.000000\n",
       "2022-03-09 21:00:00   9.750000\n",
       "2022-03-09 22:00:00  11.416667\n",
       "2022-03-09 23:00:00  16.583333\n",
       "\n",
       "[240 rows x 1 columns]"
      ]
     },
     "execution_count": 7,
     "metadata": {},
     "output_type": "execute_result"
    }
   ],
   "source": [
    "df_re = df.resample('H').mean()\n",
    "df_re"
   ]
  },
  {
   "cell_type": "code",
   "execution_count": 12,
   "id": "3cfa0ffa",
   "metadata": {},
   "outputs": [
    {
     "data": {
      "image/png": "[encoded data removed]",
      "text/plain": [
       "<Figure size 576x144 with 1 Axes>"
      ]
     },
     "metadata": {
      "needs_background": "light"
     },
     "output_type": "display_data"
    }
   ],
   "source": [
    "plt.rcParams.update({'font.size': 16})\n",
    "plt.rcParams[\"figure.figsize\"] = (8,2)\n",
    "df_re.plot(legend=None, c = 'orange')\n",
    "plt.grid()\n",
    "plt.ylim(0,300)\n",
    "plt.ylabel('Traffic flow')\n",
    "# plt.xlabel('Time')\n",
    "# xlim = np.arange(0, 60* 60 *24, 60*60*4)\n",
    "# plt.xticks(xlim, [str(n).zfill(2) + ':00' for n in np.arange(0, 24, 4)])\n",
    "plt.grid()"
   ]
  },
  {
   "cell_type": "code",
   "execution_count": null,
   "id": "a46d55f1",
   "metadata": {},
   "outputs": [],
   "source": [
    "# Define the d and q parameters to take any value between 0 and 1\n",
    "q = d = range(0, 2)\n",
    "# Define the p parameters to take any value between 0 and 3\n",
    "p = range(3, 4)\n",
    "\n",
    "# Generate all different combinations of p, q and q triplets\n",
    "pdq = list(itertools.product(p, d, q))\n",
    "\n",
    "# Generate all different combinations of seasonal p, q and q triplets\n",
    "seasonal_pdq = [(x[0], x[1], x[2], 24) for x in list(itertools.product(p, d, q))]\n",
    "\n",
    "print('Examples of parameter combinations for Seasonal ARIMA...')\n",
    "# print('SARIMAX: {} x {}'.format(pdq[1], seasonal_pdq[1]))\n",
    "# print('SARIMAX: {} x {}'.format(pdq[1], seasonal_pdq[2]))\n",
    "# print('SARIMAX: {} x {}'.format(pdq[2], seasonal_pdq[3]))\n",
    "# print('SARIMAX: {} x {}'.format(pdq[2], seasonal_pdq[4]))"
   ]
  },
  {
   "cell_type": "code",
   "execution_count": null,
   "id": "4710b22b",
   "metadata": {},
   "outputs": [],
   "source": [
    "train_data = df_re['2022-02-28':'2022-03-08']\n",
    "test_data = df_re['2022-03-09':'2022-03-09']"
   ]
  },
  {
   "cell_type": "code",
   "execution_count": null,
   "id": "fd8ff107",
   "metadata": {},
   "outputs": [],
   "source": [
    "warnings.filterwarnings(\"ignore\") # specify to ignore warning messages\n",
    "\n",
    "AIC = []\n",
    "SARIMAX_model = []\n",
    "for param in pdq:\n",
    "    for param_seasonal in seasonal_pdq:\n",
    "        try:\n",
    "            mod = sm.tsa.statespace.SARIMAX(train_data,\n",
    "                                            order=param,\n",
    "                                            seasonal_order=param_seasonal,\n",
    "                                            enforce_stationarity=False,\n",
    "                                            enforce_invertibility=False)\n",
    "\n",
    "            results = mod.fit()\n",
    "\n",
    "            print('SARIMAX{}x{} - AIC:{}'.format(param, param_seasonal, results.aic), end='\\r')\n",
    "            AIC.append(results.aic)\n",
    "            SARIMAX_model.append([param, param_seasonal])\n",
    "        except:\n",
    "            continue"
   ]
  },
  {
   "cell_type": "code",
   "execution_count": null,
   "id": "1c70eabc",
   "metadata": {},
   "outputs": [],
   "source": [
    "print('The smallest AIC is {} for model SARIMAX{}x{}'.format(min(AIC), SARIMAX_model[AIC.index(min(AIC))][0],SARIMAX_model[AIC.index(min(AIC))][1]))"
   ]
  },
  {
   "cell_type": "code",
   "execution_count": null,
   "id": "28b92357",
   "metadata": {},
   "outputs": [],
   "source": [
    "# Let's fit this model\n",
    "mod = sm.tsa.statespace.SARIMAX(train_data,\n",
    "                                order=SARIMAX_model[AIC.index(min(AIC))][0],\n",
    "                                seasonal_order=SARIMAX_model[AIC.index(min(AIC))][1],\n",
    "                                enforce_stationarity=False,\n",
    "                                enforce_invertibility=False)\n",
    "\n",
    "results = mod.fit()"
   ]
  },
  {
   "cell_type": "code",
   "execution_count": null,
   "id": "ffcb0784",
   "metadata": {},
   "outputs": [],
   "source": [
    "results.plot_diagnostics(figsize=(20, 14))\n",
    "plt.show()"
   ]
  },
  {
   "cell_type": "code",
   "execution_count": null,
   "id": "fa6cf753",
   "metadata": {},
   "outputs": [],
   "source": [
    "pred0 = results.get_prediction(start='2022-03-07 00:00:00', dynamic=False)\n",
    "pred0_ci = pred0.conf_int()\n",
    "pred0_ci"
   ]
  },
  {
   "cell_type": "code",
   "execution_count": null,
   "id": "bd9b463a",
   "metadata": {},
   "outputs": [],
   "source": [
    "pred1 = results.get_prediction(start='2022-03-07 00:00:00', dynamic=True)\n",
    "pred1_ci = pred1.conf_int()\n",
    "pred1_ci "
   ]
  },
  {
   "cell_type": "code",
   "execution_count": null,
   "id": "51815962",
   "metadata": {},
   "outputs": [],
   "source": [
    "pred2 = results.get_forecast('2022-03-10 23:00:00')\n",
    "pred2_ci = pred2.conf_int()\n",
    "print(pred2.predicted_mean['2022-03-09 00:00:00':'2022-03-09 23:00:00'])"
   ]
  },
  {
   "cell_type": "code",
   "execution_count": null,
   "id": "9c845a81",
   "metadata": {},
   "outputs": [],
   "source": [
    "plt.rcParams.update({'font.size': 16})\n",
    "ax = df_re.plot(figsize=(20, 10))\n",
    "pred0.predicted_mean.plot(ax=ax, label='1-step-ahead Forecast (get_predictions, dynamic=False)')\n",
    "pred1.predicted_mean.plot(ax=ax, label='Dynamic Forecast (get_predictions, dynamic=True)')\n",
    "pred2.predicted_mean.plot(ax=ax, label='Dynamic Forecast (get_forecast)')\n",
    "ax.fill_between(pred2_ci.index, pred2_ci.iloc[:, 0], pred2_ci.iloc[:, 1], color='k', alpha=.1)\n",
    "plt.ylabel('Traffic Flow')\n",
    "plt.xlabel('Time')\n",
    "plt.legend()\n",
    "plt.show()"
   ]
  },
  {
   "cell_type": "code",
   "execution_count": null,
   "id": "face7e4a",
   "metadata": {},
   "outputs": [],
   "source": [
    "prediction = pred2.predicted_mean['2022-03-09 00:00:00':'2022-03-09 23:00:00'].values\n",
    "# flatten nested list\n",
    "truth = list(itertools.chain.from_iterable(test_data.values))\n",
    "# Mean Absolute Percentage Error\n",
    "MAPE = np.mean(np.abs((truth - prediction) / truth)) * 100\n",
    "\n",
    "print('The Mean Absolute Percentage Error for the forecast of 2022-03-09 is {:.2f}%'.format(MAPE))"
   ]
  },
  {
   "cell_type": "code",
   "execution_count": null,
   "id": "77a6a7d4",
   "metadata": {},
   "outputs": [],
   "source": [
    "prediction"
   ]
  },
  {
   "cell_type": "code",
   "execution_count": null,
   "id": "ab04446b",
   "metadata": {},
   "outputs": [],
   "source": [
    "[round(i) for i in truth]"
   ]
  },
  {
   "cell_type": "code",
   "execution_count": null,
   "id": "4d96d01d",
   "metadata": {},
   "outputs": [],
   "source": []
  }
 ],
 "metadata": {
  "kernelspec": {
   "display_name": "Python 3 (ipykernel)",
   "language": "python",
   "name": "python3"
  },
  "language_info": {
   "codemirror_mode": {
    "name": "ipython",
    "version": 3
   },
   "file_extension": ".py",
   "mimetype": "text/x-python",
   "name": "python",
   "nbconvert_exporter": "python",
   "pygments_lexer": "ipython3",
   "version": "3.7.12"
  }
 },
 "nbformat": 4,
 "nbformat_minor": 5
}
